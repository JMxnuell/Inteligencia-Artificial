{
 "cells": [
  {
   "cell_type": "markdown",
   "id": "c7655d51",
   "metadata": {},
   "source": [
    "<center>\n",
    "    <h1>Instituto Politécnico Nacional</h1>\n",
    "    <h2>Escuela Superior de Cómputo</h2>\n",
    "</center>\n",
    "\n",
    "<br> \n",
    "<br>\n",
    "\n",
    "Asignatura: ***Inteligencia Artificial***<br>\n",
    "\n",
    "Alumno: ***Suárez Bautista José Manuel***<br>\n",
    "\n",
    "Boleta: ***2019640115***<br>\n",
    "\n",
    "Grupo: ***6CM1***<br>\n",
    "\n",
    "---\n",
    "<center>\n",
    "    <h3>Práctica 2</h3>\n",
    "    <h4>Problema de las 8 reinas</h4>\n",
    "    <p>4 de noviembre de 2022</p>\n",
    "</center>\n"
   ]
  },
  {
   "cell_type": "markdown",
   "id": "f2e0443f",
   "metadata": {},
   "source": [
    "- Graficar tablero:"
   ]
  },
  {
   "cell_type": "code",
   "execution_count": 7,
   "id": "c74777a6",
   "metadata": {},
   "outputs": [],
   "source": [
    "import matplotlib.pyplot as pyplot\n",
    "import numpy as np\n",
    "(dx, dy) = (0.015, 0.015)\n",
    "\n",
    "x = np.arange(0.0, 8.0, dx)\n",
    "y = np.arange(0.0, 8.0, dy)\n",
    "\n",
    "(X, Y) = np.meshgrid(x, y)\n",
    "extent = (np.min(x), np.max(x), np.min(y), np.max(y))\n",
    "\n",
    "def chess(x, y):\n",
    "    return (1 - x / 2 + x ** 5 + y ** 6) * np.exp(-(x ** 2 + y ** 2))\n",
    "\n",
    "def tabl(tab):\n",
    "    z1 = np.asarray(tab)\n",
    "    pyplot.imshow(z1, cmap='binary_r', interpolation='nearest', extent=extent, alpha=1)\n",
    "    z2 = chess(X, Y)\n",
    "    pyplot.imshow(z2, alpha=0, interpolation='bilinear', extent=extent)\n",
    "    pyplot.show()\n",
    "\n",
    "#report this ad\n",
    "#© 2009 — 2022 W3schools® of Technology.\n",
    "#About UsContact UsCopyrightPrivacy Policy\n"
   ]
  },
  {
   "cell_type": "markdown",
   "id": "7c19170e",
   "metadata": {},
   "source": [
    "- Heurística:"
   ]
  },
  {
   "cell_type": "code",
   "execution_count": 18,
   "id": "050cd015",
   "metadata": {},
   "outputs": [
    {
     "name": "stdout",
     "output_type": "stream",
     "text": [
      "Solucion 1 (H=0):\n"
     ]
    },
    {
     "data": {
      "image/png": "[encoded data removed]",
      "text/plain": [
       "<Figure size 432x288 with 1 Axes>"
      ]
     },
     "metadata": {
      "needs_background": "light"
     },
     "output_type": "display_data"
    },
    {
     "name": "stdout",
     "output_type": "stream",
     "text": [
      "\n",
      "Solucion 2 (H=0):\n"
     ]
    },
    {
     "data": {
      "image/png": "[encoded data removed]",
      "text/plain": [
       "<Figure size 432x288 with 1 Axes>"
      ]
     },
     "metadata": {
      "needs_background": "light"
     },
     "output_type": "display_data"
    },
    {
     "name": "stdout",
     "output_type": "stream",
     "text": [
      "\n",
      "Solucion 3 (H=0):\n"
     ]
    },
    {
     "data": {
      "image/png": "[encoded data removed]",
      "text/plain": [
       "<Figure size 432x288 with 1 Axes>"
      ]
     },
     "metadata": {
      "needs_background": "light"
     },
     "output_type": "display_data"
    },
    {
     "name": "stdout",
     "output_type": "stream",
     "text": [
      "\n",
      "Solucion 4 (H=0):\n"
     ]
    },
    {
     "data": {
      "image/png": "[encoded data removed]",
      "text/plain": [
       "<Figure size 432x288 with 1 Axes>"
      ]
     },
     "metadata": {
      "needs_background": "light"
     },
     "output_type": "display_data"
    },
    {
     "name": "stdout",
     "output_type": "stream",
     "text": [
      "\n"
     ]
    }
   ],
   "source": [
    "def coloca(tab):\n",
    "    \"\"\"función para colocar las reinas en el tablero\"\"\"\n",
    "    for j in range(8):\n",
    "        tab[j][fila[j]] = 1\n",
    "def H(i, j):\n",
    "    \"\"\"función que revisa que la reina actual pueda ser\n",
    "       colocada de tal forma que no sea atacada por otra\n",
    "       reina.\n",
    "       Pasamos su posición en fila y columna, buscamos que\n",
    "       la reina actual no se encuentre en alguna fila de las\n",
    "       reinas previas o en la columna que se encuentre alguna.\n",
    "    \"\"\"    \n",
    "    for col_prev in range(j): # iteramos de 0 a (j-1) -> columnas previas a j\n",
    "        if fila[col_prev] == i or abs(fila[col_prev]-i) == abs(col_prev-j):\n",
    "            # verificamos que no se encuentre en alguna diagonal\n",
    "            # o fila en la que pueda ser atacada\n",
    "            return False\n",
    "    return True\n",
    "\n",
    "def backtrack(j):\n",
    "    global n_sol\n",
    "    \"\"\"función backtracking que encuentra heurísticas de 0\n",
    "       a partir de la posición de la reina de la primera\n",
    "       columna. \"\"\"\n",
    "    if j == 8:\n",
    "         # encuentro una H = 0 cuando he llegado\n",
    "         # a la última columna.\n",
    "        n_sol += 1\n",
    "        print(f\"Solucion {n_sol} (H=0):\")\n",
    "        tab = [[0 for j in range(8)] for i in range(8)]\n",
    "        coloca(tab)\n",
    "        #print(tab)\n",
    "        tabl(tab)\n",
    "        print()\n",
    "        return\n",
    "    for i in range(8):\n",
    "        # itero por cada fila para encontrar\n",
    "        # la posición en la que la reina no \n",
    "        # es atacada\n",
    "        if j == 0 and i != a: # para la primera columna la posición de la reina es fija\n",
    "            continue\n",
    "        if H(i, j): # si en dicha posición no me atacan\n",
    "            fila[j] = i # la reina puede ser colocada en i,j\n",
    "            backtrack(j+1) # busco en la siguiente columna.\n",
    "\n",
    "\n",
    "for col in range(8):\n",
    "    a = 0\n",
    "    fila = [0] * 8\n",
    "    n_sol = 0\n",
    "    backtrack(0)"
   ]
  },
  {
   "cell_type": "code",
   "execution_count": null,
   "id": "e2a86af7",
   "metadata": {},
   "outputs": [],
   "source": []
  }
 ],
 "metadata": {
  "kernelspec": {
   "display_name": "Python 3 (ipykernel)",
   "language": "python",
   "name": "python3"
  },
  "language_info": {
   "codemirror_mode": {
    "name": "ipython",
    "version": 3
   },
   "file_extension": ".py",
   "mimetype": "text/x-python",
   "name": "python",
   "nbconvert_exporter": "python",
   "pygments_lexer": "ipython3",
   "version": "3.9.12"
  }
 },
 "nbformat": 4,
 "nbformat_minor": 5
}
