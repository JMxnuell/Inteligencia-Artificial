{
 "cells": [
  {
   "cell_type": "markdown",
   "id": "c7655d51",
   "metadata": {},
   "source": [
    "<center>\n",
    "    <h1>Instituto Politécnico Nacional</h1>\n",
    "    <h2>Escuela Superior de Cómputo</h2>\n",
    "</center>\n",
    "\n",
    "<br> \n",
    "<br>\n",
    "\n",
    "Asignatura: ***Inteligencia Artificial***<br>\n",
    "\n",
    "Alumno: ***Suárez Bautista José Manuel***<br>\n",
    "\n",
    "Boleta: ***2019640115***<br>\n",
    "\n",
    "Grupo: ***6CM1***<br>\n",
    "\n",
    "---\n",
    "<center>\n",
    "    <h3>Práctica 2</h3>\n",
    "    <h4>Problema de las 8 reinas</h4>\n",
    "    <p>21 de octubre de 2022</p>\n",
    "</center>\n"
   ]
  },
  {
   "cell_type": "markdown",
   "id": "b9692a90",
   "metadata": {},
   "source": [
    "Colocar las 8 reinas en un tablero de ajedrez de manera que cada reina no ataque a ninguna otra.\n",
    "<br>***Estado inicial***: una reina en cada columna\n",
    "<br>***Función de costo heurística h***: número de pares de reinas que se atacan una a otra."
   ]
  },
  {
   "cell_type": "markdown",
   "id": "217b479d",
   "metadata": {},
   "source": [
    "---\n",
    "***Desarrollo***\n",
    "\n",
    "1. Generar un tablero (8x8)\n",
    "2. Colocar una reina por cada columna (posición en fila aleatoria)\n",
    "3. Graficar tablero indicando la posición de la reina\n",
    "4. Detectar ataques en horizontal y diagonal (izquierda y derecha)\n",
    "    \n"
   ]
  },
  {
   "cell_type": "markdown",
   "id": "d360f340",
   "metadata": {},
   "source": [
    "---\n",
    "1. Generar tablero"
   ]
  },
  {
   "cell_type": "code",
   "execution_count": 1,
   "id": "e16301e5",
   "metadata": {},
   "outputs": [
    {
     "data": {
      "text/plain": [
       "[[0, 0, 0, 0, 0, 0, 0, 0],\n",
       " [0, 0, 0, 0, 0, 0, 0, 0],\n",
       " [0, 0, 0, 0, 0, 0, 0, 0],\n",
       " [0, 0, 0, 0, 0, 0, 0, 0],\n",
       " [0, 0, 0, 0, 0, 0, 0, 0],\n",
       " [0, 0, 0, 0, 0, 0, 0, 0],\n",
       " [0, 0, 0, 0, 0, 0, 0, 0],\n",
       " [0, 0, 0, 0, 0, 0, 0, 0]]"
      ]
     },
     "execution_count": 1,
     "metadata": {},
     "output_type": "execute_result"
    }
   ],
   "source": [
    "tab = [[0 for j in range(8)] for i in range(8)]\n",
    "tab"
   ]
  },
  {
   "cell_type": "markdown",
   "id": "1dbbce62",
   "metadata": {},
   "source": [
    "2. Colocar reinas"
   ]
  },
  {
   "cell_type": "code",
   "execution_count": 2,
   "id": "67c8e3ea",
   "metadata": {},
   "outputs": [
    {
     "data": {
      "text/plain": [
       "[(0, 0), (6, 1), (4, 2), (7, 3), (6, 4), (2, 5), (2, 6), (2, 7)]"
      ]
     },
     "execution_count": 2,
     "metadata": {},
     "output_type": "execute_result"
    }
   ],
   "source": [
    "import numpy as np\n",
    "pos = []\n",
    "def queens(tab):\n",
    "    \"función para insertar las reinas en el tablero\"\n",
    "    for j in range(8):\n",
    "        i = np.random.randint(0,8)\n",
    "        tab[i][j] = 1 # fila aleatoria\n",
    "        pos.append((i,j)) # posicion por reina\n",
    "\n",
    "queens(tab)\n",
    "tab\n",
    "pos"
   ]
  },
  {
   "cell_type": "markdown",
   "id": "f2e0443f",
   "metadata": {},
   "source": [
    "3. Graficar tablero:"
   ]
  },
  {
   "cell_type": "code",
   "execution_count": 3,
   "id": "c74777a6",
   "metadata": {},
   "outputs": [
    {
     "data": {
      "image/png": "[encoded data removed]",
      "text/plain": [
       "<Figure size 432x288 with 1 Axes>"
      ]
     },
     "metadata": {
      "needs_background": "light"
     },
     "output_type": "display_data"
    }
   ],
   "source": [
    "import matplotlib.pyplot as pyplot\n",
    "\n",
    "(dx, dy) = (0.015, 0.015)\n",
    "\n",
    "x = np.arange(0.0, 8.0, dx)\n",
    "y = np.arange(0.0, 8.0, dy)\n",
    "\n",
    "(X, Y) = np.meshgrid(x, y)\n",
    "extent = (np.min(x), np.max(x), np.min(y), np.max(y))\n",
    "\n",
    "def chess(x, y):\n",
    "    return (1 - x / 2 + x ** 5 + y ** 6) * np.exp(-(x ** 2 + y ** 2))\n",
    "\n",
    "def tabl(tab):\n",
    "    z1 = np.asarray(tab)\n",
    "    pyplot.imshow(z1, cmap='binary_r', interpolation='nearest', extent=extent, alpha=1)\n",
    "    z2 = chess(X, Y)\n",
    "    pyplot.imshow(z2, alpha=0, interpolation='bilinear', extent=extent)\n",
    "    pyplot.show()\n",
    "\n",
    "tabl(tab)\n",
    "#report this ad\n",
    "#© 2009 — 2022 W3schools® of Technology.\n",
    "#About UsContact UsCopyrightPrivacy Policy\n"
   ]
  },
  {
   "cell_type": "markdown",
   "id": "7c19170e",
   "metadata": {},
   "source": [
    "4. Heurística:"
   ]
  },
  {
   "cell_type": "code",
   "execution_count": 4,
   "id": "050cd015",
   "metadata": {},
   "outputs": [
    {
     "name": "stdout",
     "output_type": "stream",
     "text": [
      "La heuristica es 7\n"
     ]
    }
   ],
   "source": [
    "def gauss_1(i):\n",
    "    return int(1/2*(i*i - i))\n",
    "hs = [gauss_1(i) for i in range(0,9)]\n",
    "\n",
    "\n",
    "def h(pos):\n",
    "    \"\"\"Función que calcula la heurística apartir de búsqueda horizontal\n",
    "    y vertical, pasamos como parámetro las posiciones de las 8 reinas.\"\"\"\n",
    "    # buscamos ataques horizontales:\n",
    "    cubeta_horizontal = [0 for i in range(8)]\n",
    "    for t in pos:\n",
    "        cubeta_horizontal[t[0]] += 1\n",
    "    ans = 0\n",
    "    for hi in cubeta_horizontal:\n",
    "        ans += hs[hi]\n",
    "    # buscamos ataques diagonales\n",
    "    for i in range(8):\n",
    "        for j in range(i+1, 8):\n",
    "            ans += (abs(pos[i][0] - pos[j][0]) == abs(pos[i][1] - pos[j][1]))\n",
    "    print(f'La heuristica es {ans}')\n",
    "    return ans\n",
    "ans = h(pos)\n"
   ]
  },
  {
   "cell_type": "code",
   "execution_count": 5,
   "id": "83b1a174",
   "metadata": {},
   "outputs": [
    {
     "name": "stdout",
     "output_type": "stream",
     "text": [
      "Inicio de columna: 0, minGlobal: 7\n",
      "Iteracion en columna: 0, movimiento hacia abajo\n"
     ]
    },
    {
     "data": {
      "image/png": "[encoded data removed]",
      "text/plain": [
       "<Figure size 432x288 with 1 Axes>"
      ]
     },
     "metadata": {
      "needs_background": "light"
     },
     "output_type": "display_data"
    },
    {
     "name": "stdout",
     "output_type": "stream",
     "text": [
      "La heuristica es 7\n"
     ]
    },
    {
     "data": {
      "image/png": "[encoded data removed]",
      "text/plain": [
       "<Figure size 432x288 with 1 Axes>"
      ]
     },
     "metadata": {
      "needs_background": "light"
     },
     "output_type": "display_data"
    },
    {
     "name": "stdout",
     "output_type": "stream",
     "text": [
      "La heuristica es 12\n"
     ]
    },
    {
     "data": {
      "image/png": "[encoded data removed]",
      "text/plain": [
       "<Figure size 432x288 with 1 Axes>"
      ]
     },
     "metadata": {
      "needs_background": "light"
     },
     "output_type": "display_data"
    },
    {
     "name": "stdout",
     "output_type": "stream",
     "text": [
      "La heuristica es 7\n"
     ]
    },
    {
     "data": {
      "image/png": "[encoded data removed]",
      "text/plain": [
       "<Figure size 432x288 with 1 Axes>"
      ]
     },
     "metadata": {
      "needs_background": "light"
     },
     "output_type": "display_data"
    },
    {
     "name": "stdout",
     "output_type": "stream",
     "text": [
      "La heuristica es 9\n"
     ]
    },
    {
     "data": {
      "image/png": "[encoded data removed]",
      "text/plain": [
       "<Figure size 432x288 with 1 Axes>"
      ]
     },
     "metadata": {
      "needs_background": "light"
     },
     "output_type": "display_data"
    },
    {
     "name": "stdout",
     "output_type": "stream",
     "text": [
      "La heuristica es 8\n"
     ]
    },
    {
     "data": {
      "image/png": "[encoded data removed]",
      "text/plain": [
       "<Figure size 432x288 with 1 Axes>"
      ]
     },
     "metadata": {
      "needs_background": "light"
     },
     "output_type": "display_data"
    },
    {
     "name": "stdout",
     "output_type": "stream",
     "text": [
      "La heuristica es 10\n"
     ]
    },
    {
     "data": {
      "image/png": "[encoded data removed]",
      "text/plain": [
       "<Figure size 432x288 with 1 Axes>"
      ]
     },
     "metadata": {
      "needs_background": "light"
     },
     "output_type": "display_data"
    },
    {
     "name": "stdout",
     "output_type": "stream",
     "text": [
      "La heuristica es 10\n",
      "Iteracion en columna: 0, movimiento hacia arriba\n",
      "Inicio de columna: 1, minGlobal: 7\n",
      "Iteracion en columna: 1, movimiento hacia abajo\n"
     ]
    },
    {
     "data": {
      "image/png": "[encoded data removed]",
      "text/plain": [
       "<Figure size 432x288 with 1 Axes>"
      ]
     },
     "metadata": {
      "needs_background": "light"
     },
     "output_type": "display_data"
    },
    {
     "name": "stdout",
     "output_type": "stream",
     "text": [
      "La heuristica es 7\n",
      "Iteracion en columna: 1, movimiento hacia arriba\n"
     ]
    },
    {
     "data": {
      "image/png": "[encoded data removed]",
      "text/plain": [
       "<Figure size 432x288 with 1 Axes>"
      ]
     },
     "metadata": {
      "needs_background": "light"
     },
     "output_type": "display_data"
    },
    {
     "name": "stdout",
     "output_type": "stream",
     "text": [
      "La heuristica es 7\n"
     ]
    },
    {
     "data": {
      "image/png": "[encoded data removed]",
      "text/plain": [
       "<Figure size 432x288 with 1 Axes>"
      ]
     },
     "metadata": {
      "needs_background": "light"
     },
     "output_type": "display_data"
    },
    {
     "name": "stdout",
     "output_type": "stream",
     "text": [
      "La heuristica es 6\n"
     ]
    },
    {
     "data": {
      "image/png": "[encoded data removed]",
      "text/plain": [
       "<Figure size 432x288 with 1 Axes>"
      ]
     },
     "metadata": {
      "needs_background": "light"
     },
     "output_type": "display_data"
    },
    {
     "name": "stdout",
     "output_type": "stream",
     "text": [
      "La heuristica es 7\n"
     ]
    },
    {
     "data": {
      "image/png": "[encoded data removed]",
      "text/plain": [
       "<Figure size 432x288 with 1 Axes>"
      ]
     },
     "metadata": {
      "needs_background": "light"
     },
     "output_type": "display_data"
    },
    {
     "name": "stdout",
     "output_type": "stream",
     "text": [
      "La heuristica es 8\n"
     ]
    },
    {
     "data": {
      "image/png": "[encoded data removed]",
      "text/plain": [
       "<Figure size 432x288 with 1 Axes>"
      ]
     },
     "metadata": {
      "needs_background": "light"
     },
     "output_type": "display_data"
    },
    {
     "name": "stdout",
     "output_type": "stream",
     "text": [
      "La heuristica es 6\n",
      "Inicio de columna: 2, minGlobal: 6\n",
      "Iteracion en columna: 2, movimiento hacia abajo\n"
     ]
    },
    {
     "data": {
      "image/png": "[encoded data removed]",
      "text/plain": [
       "<Figure size 432x288 with 1 Axes>"
      ]
     },
     "metadata": {
      "needs_background": "light"
     },
     "output_type": "display_data"
    },
    {
     "name": "stdout",
     "output_type": "stream",
     "text": [
      "La heuristica es 8\n"
     ]
    },
    {
     "data": {
      "image/png": "[encoded data removed]",
      "text/plain": [
       "<Figure size 432x288 with 1 Axes>"
      ]
     },
     "metadata": {
      "needs_background": "light"
     },
     "output_type": "display_data"
    },
    {
     "name": "stdout",
     "output_type": "stream",
     "text": [
      "La heuristica es 10\n"
     ]
    },
    {
     "data": {
      "image/png": "[encoded data removed]",
      "text/plain": [
       "<Figure size 432x288 with 1 Axes>"
      ]
     },
     "metadata": {
      "needs_background": "light"
     },
     "output_type": "display_data"
    },
    {
     "name": "stdout",
     "output_type": "stream",
     "text": [
      "La heuristica es 9\n",
      "Iteracion en columna: 2, movimiento hacia arriba\n"
     ]
    },
    {
     "data": {
      "image/png": "[encoded data removed]",
      "text/plain": [
       "<Figure size 432x288 with 1 Axes>"
      ]
     },
     "metadata": {
      "needs_background": "light"
     },
     "output_type": "display_data"
    },
    {
     "name": "stdout",
     "output_type": "stream",
     "text": [
      "La heuristica es 6\n"
     ]
    },
    {
     "data": {
      "image/png": "[encoded data removed]",
      "text/plain": [
       "<Figure size 432x288 with 1 Axes>"
      ]
     },
     "metadata": {
      "needs_background": "light"
     },
     "output_type": "display_data"
    },
    {
     "name": "stdout",
     "output_type": "stream",
     "text": [
      "La heuristica es 10\n"
     ]
    },
    {
     "data": {
      "image/png": "[encoded data removed]",
      "text/plain": [
       "<Figure size 432x288 with 1 Axes>"
      ]
     },
     "metadata": {
      "needs_background": "light"
     },
     "output_type": "display_data"
    },
    {
     "name": "stdout",
     "output_type": "stream",
     "text": [
      "La heuristica es 6\n",
      "Inicio de columna: 3, minGlobal: 6\n",
      "Iteracion en columna: 3, movimiento hacia abajo\n",
      "Iteracion en columna: 3, movimiento hacia arriba\n"
     ]
    },
    {
     "data": {
      "image/png": "[encoded data removed]",
      "text/plain": [
       "<Figure size 432x288 with 1 Axes>"
      ]
     },
     "metadata": {
      "needs_background": "light"
     },
     "output_type": "display_data"
    },
    {
     "name": "stdout",
     "output_type": "stream",
     "text": [
      "La heuristica es 9\n"
     ]
    },
    {
     "data": {
      "image/png": "[encoded data removed]",
      "text/plain": [
       "<Figure size 432x288 with 1 Axes>"
      ]
     },
     "metadata": {
      "needs_background": "light"
     },
     "output_type": "display_data"
    },
    {
     "name": "stdout",
     "output_type": "stream",
     "text": [
      "La heuristica es 9\n"
     ]
    },
    {
     "data": {
      "image/png": "[encoded data removed]",
      "text/plain": [
       "<Figure size 432x288 with 1 Axes>"
      ]
     },
     "metadata": {
      "needs_background": "light"
     },
     "output_type": "display_data"
    },
    {
     "name": "stdout",
     "output_type": "stream",
     "text": [
      "La heuristica es 9\n"
     ]
    },
    {
     "data": {
      "image/png": "[encoded data removed]",
      "text/plain": [
       "<Figure size 432x288 with 1 Axes>"
      ]
     },
     "metadata": {
      "needs_background": "light"
     },
     "output_type": "display_data"
    },
    {
     "name": "stdout",
     "output_type": "stream",
     "text": [
      "La heuristica es 8\n"
     ]
    },
    {
     "data": {
      "image/png": "[encoded data removed]",
      "text/plain": [
       "<Figure size 432x288 with 1 Axes>"
      ]
     },
     "metadata": {
      "needs_background": "light"
     },
     "output_type": "display_data"
    },
    {
     "name": "stdout",
     "output_type": "stream",
     "text": [
      "La heuristica es 9\n"
     ]
    },
    {
     "data": {
      "image/png": "[encoded data removed]",
      "text/plain": [
       "<Figure size 432x288 with 1 Axes>"
      ]
     },
     "metadata": {
      "needs_background": "light"
     },
     "output_type": "display_data"
    },
    {
     "name": "stdout",
     "output_type": "stream",
     "text": [
      "La heuristica es 6\n",
      "Inicio de columna: 4, minGlobal: 6\n",
      "Iteracion en columna: 4, movimiento hacia abajo\n"
     ]
    },
    {
     "data": {
      "image/png": "[encoded data removed]",
      "text/plain": [
       "<Figure size 432x288 with 1 Axes>"
      ]
     },
     "metadata": {
      "needs_background": "light"
     },
     "output_type": "display_data"
    },
    {
     "name": "stdout",
     "output_type": "stream",
     "text": [
      "La heuristica es 5\n",
      "Iteracion en columna: 4, movimiento hacia arriba\n"
     ]
    },
    {
     "data": {
      "image/png": "[encoded data removed]",
      "text/plain": [
       "<Figure size 432x288 with 1 Axes>"
      ]
     },
     "metadata": {
      "needs_background": "light"
     },
     "output_type": "display_data"
    },
    {
     "name": "stdout",
     "output_type": "stream",
     "text": [
      "La heuristica es 5\n"
     ]
    },
    {
     "data": {
      "image/png": "[encoded data removed]",
      "text/plain": [
       "<Figure size 432x288 with 1 Axes>"
      ]
     },
     "metadata": {
      "needs_background": "light"
     },
     "output_type": "display_data"
    },
    {
     "name": "stdout",
     "output_type": "stream",
     "text": [
      "La heuristica es 7\n"
     ]
    },
    {
     "data": {
      "image/png": "[encoded data removed]",
      "text/plain": [
       "<Figure size 432x288 with 1 Axes>"
      ]
     },
     "metadata": {
      "needs_background": "light"
     },
     "output_type": "display_data"
    },
    {
     "name": "stdout",
     "output_type": "stream",
     "text": [
      "La heuristica es 6\n"
     ]
    },
    {
     "data": {
      "image/png": "[encoded data removed]",
      "text/plain": [
       "<Figure size 432x288 with 1 Axes>"
      ]
     },
     "metadata": {
      "needs_background": "light"
     },
     "output_type": "display_data"
    },
    {
     "name": "stdout",
     "output_type": "stream",
     "text": [
      "La heuristica es 8\n"
     ]
    },
    {
     "data": {
      "image/png": "[encoded data removed]",
      "text/plain": [
       "<Figure size 432x288 with 1 Axes>"
      ]
     },
     "metadata": {
      "needs_background": "light"
     },
     "output_type": "display_data"
    },
    {
     "name": "stdout",
     "output_type": "stream",
     "text": [
      "La heuristica es 5\n",
      "Inicio de columna: 5, minGlobal: 5\n",
      "Iteracion en columna: 5, movimiento hacia abajo\n"
     ]
    },
    {
     "data": {
      "image/png": "[encoded data removed]",
      "text/plain": [
       "<Figure size 432x288 with 1 Axes>"
      ]
     },
     "metadata": {
      "needs_background": "light"
     },
     "output_type": "display_data"
    },
    {
     "name": "stdout",
     "output_type": "stream",
     "text": [
      "La heuristica es 5\n"
     ]
    },
    {
     "data": {
      "image/png": "[encoded data removed]",
      "text/plain": [
       "<Figure size 432x288 with 1 Axes>"
      ]
     },
     "metadata": {
      "needs_background": "light"
     },
     "output_type": "display_data"
    },
    {
     "name": "stdout",
     "output_type": "stream",
     "text": [
      "La heuristica es 6\n"
     ]
    },
    {
     "data": {
      "image/png": "[encoded data removed]",
      "text/plain": [
       "<Figure size 432x288 with 1 Axes>"
      ]
     },
     "metadata": {
      "needs_background": "light"
     },
     "output_type": "display_data"
    },
    {
     "name": "stdout",
     "output_type": "stream",
     "text": [
      "La heuristica es 7\n"
     ]
    },
    {
     "data": {
      "image/png": "[encoded data removed]",
      "text/plain": [
       "<Figure size 432x288 with 1 Axes>"
      ]
     },
     "metadata": {
      "needs_background": "light"
     },
     "output_type": "display_data"
    },
    {
     "name": "stdout",
     "output_type": "stream",
     "text": [
      "La heuristica es 6\n"
     ]
    },
    {
     "data": {
      "image/png": "[encoded data removed]",
      "text/plain": [
       "<Figure size 432x288 with 1 Axes>"
      ]
     },
     "metadata": {
      "needs_background": "light"
     },
     "output_type": "display_data"
    },
    {
     "name": "stdout",
     "output_type": "stream",
     "text": [
      "La heuristica es 7\n",
      "Iteracion en columna: 5, movimiento hacia arriba\n"
     ]
    },
    {
     "data": {
      "image/png": "[encoded data removed]",
      "text/plain": [
       "<Figure size 432x288 with 1 Axes>"
      ]
     },
     "metadata": {
      "needs_background": "light"
     },
     "output_type": "display_data"
    },
    {
     "name": "stdout",
     "output_type": "stream",
     "text": [
      "La heuristica es 6\n",
      "Inicio de columna: 6, minGlobal: 5\n",
      "Iteracion en columna: 6, movimiento hacia abajo\n"
     ]
    },
    {
     "data": {
      "image/png": "[encoded data removed]",
      "text/plain": [
       "<Figure size 432x288 with 1 Axes>"
      ]
     },
     "metadata": {
      "needs_background": "light"
     },
     "output_type": "display_data"
    },
    {
     "name": "stdout",
     "output_type": "stream",
     "text": [
      "La heuristica es 7\n"
     ]
    },
    {
     "data": {
      "image/png": "[encoded data removed]",
      "text/plain": [
       "<Figure size 432x288 with 1 Axes>"
      ]
     },
     "metadata": {
      "needs_background": "light"
     },
     "output_type": "display_data"
    },
    {
     "name": "stdout",
     "output_type": "stream",
     "text": [
      "La heuristica es 8\n"
     ]
    },
    {
     "data": {
      "image/png": "[encoded data removed]",
      "text/plain": [
       "<Figure size 432x288 with 1 Axes>"
      ]
     },
     "metadata": {
      "needs_background": "light"
     },
     "output_type": "display_data"
    },
    {
     "name": "stdout",
     "output_type": "stream",
     "text": [
      "La heuristica es 5\n"
     ]
    },
    {
     "data": {
      "image/png": "[encoded data removed]",
      "text/plain": [
       "<Figure size 432x288 with 1 Axes>"
      ]
     },
     "metadata": {
      "needs_background": "light"
     },
     "output_type": "display_data"
    },
    {
     "name": "stdout",
     "output_type": "stream",
     "text": [
      "La heuristica es 8\n"
     ]
    },
    {
     "data": {
      "image/png": "[encoded data removed]",
      "text/plain": [
       "<Figure size 432x288 with 1 Axes>"
      ]
     },
     "metadata": {
      "needs_background": "light"
     },
     "output_type": "display_data"
    },
    {
     "name": "stdout",
     "output_type": "stream",
     "text": [
      "La heuristica es 6\n",
      "Iteracion en columna: 6, movimiento hacia arriba\n"
     ]
    },
    {
     "data": {
      "image/png": "[encoded data removed]",
      "text/plain": [
       "<Figure size 432x288 with 1 Axes>"
      ]
     },
     "metadata": {
      "needs_background": "light"
     },
     "output_type": "display_data"
    },
    {
     "name": "stdout",
     "output_type": "stream",
     "text": [
      "La heuristica es 8\n",
      "Inicio de columna: 7, minGlobal: 5\n",
      "Iteracion en columna: 7, movimiento hacia abajo\n"
     ]
    },
    {
     "data": {
      "image/png": "[encoded data removed]",
      "text/plain": [
       "<Figure size 432x288 with 1 Axes>"
      ]
     },
     "metadata": {
      "needs_background": "light"
     },
     "output_type": "display_data"
    },
    {
     "name": "stdout",
     "output_type": "stream",
     "text": [
      "La heuristica es 8\n"
     ]
    },
    {
     "data": {
      "image/png": "[encoded data removed]",
      "text/plain": [
       "<Figure size 432x288 with 1 Axes>"
      ]
     },
     "metadata": {
      "needs_background": "light"
     },
     "output_type": "display_data"
    },
    {
     "name": "stdout",
     "output_type": "stream",
     "text": [
      "La heuristica es 7\n"
     ]
    },
    {
     "data": {
      "image/png": "[encoded data removed]",
      "text/plain": [
       "<Figure size 432x288 with 1 Axes>"
      ]
     },
     "metadata": {
      "needs_background": "light"
     },
     "output_type": "display_data"
    },
    {
     "name": "stdout",
     "output_type": "stream",
     "text": [
      "La heuristica es 5\n"
     ]
    },
    {
     "data": {
      "image/png": "[encoded data removed]",
      "text/plain": [
       "<Figure size 432x288 with 1 Axes>"
      ]
     },
     "metadata": {
      "needs_background": "light"
     },
     "output_type": "display_data"
    },
    {
     "name": "stdout",
     "output_type": "stream",
     "text": [
      "La heuristica es 7\n"
     ]
    },
    {
     "data": {
      "image/png": "[encoded data removed]",
      "text/plain": [
       "<Figure size 432x288 with 1 Axes>"
      ]
     },
     "metadata": {
      "needs_background": "light"
     },
     "output_type": "display_data"
    },
    {
     "name": "stdout",
     "output_type": "stream",
     "text": [
      "La heuristica es 7\n",
      "Iteracion en columna: 7, movimiento hacia arriba\n"
     ]
    },
    {
     "data": {
      "image/png": "[encoded data removed]",
      "text/plain": [
       "<Figure size 432x288 with 1 Axes>"
      ]
     },
     "metadata": {
      "needs_background": "light"
     },
     "output_type": "display_data"
    },
    {
     "name": "stdout",
     "output_type": "stream",
     "text": [
      "La heuristica es 6\n"
     ]
    }
   ],
   "source": [
    "def minH(j, i_ini, ans):\n",
    "    \"\"\"Función que calcula la h(x) local por fila\"\"\"\n",
    "    minGlob2 = ans\n",
    "    tab[i_ini][j] = 0\n",
    "    print(f\"Iteracion en columna: {j}, movimiento hacia abajo\")\n",
    "    for i in range(i_ini+1, 8): # iteración hacia arriba\n",
    "        tab[i][j] = 1\n",
    "        pos[j] = (i,j)\n",
    "        tabl(tab)\n",
    "        minLoc = h(pos)\n",
    "        tab[i][j] = 0\n",
    "        minGlob2 = min(minLoc, minGlob2)\n",
    "         \n",
    "    print(f\"Iteracion en columna: {j}, movimiento hacia arriba\")\n",
    "    for i in range(i_ini-1, 0, -1): # iteración hacia arriba\n",
    "        tab[i][j] = 1\n",
    "        tabl(tab)\n",
    "        pos[j] = (i,j)\n",
    "        minLoc = h(pos)\n",
    "        tab[i][j] = 0\n",
    "        minGlob2 = min(minLoc, minGlob2)  \n",
    "        \n",
    "    tab[i_ini][j] = 1 # regresamos al estado inicial original\n",
    "    pos[j] = (i_ini,j)\n",
    "    return minGlob2\n",
    "\n",
    "minGlob = ans\n",
    "for j in range(0,8): # iteramos por columna\n",
    "    print(f\"Inicio de columna: {j}, minGlobal: {minGlob}\")\n",
    "    minGlob = min(minH(j, pos[j][0], ans), minGlob) # nos quedamos con el mínimo por columna"
   ]
  },
  {
   "cell_type": "code",
   "execution_count": null,
   "id": "e2a86af7",
   "metadata": {},
   "outputs": [],
   "source": []
  }
 ],
 "metadata": {
  "kernelspec": {
   "display_name": "Python 3 (ipykernel)",
   "language": "python",
   "name": "python3"
  },
  "language_info": {
   "codemirror_mode": {
    "name": "ipython",
    "version": 3
   },
   "file_extension": ".py",
   "mimetype": "text/x-python",
   "name": "python",
   "nbconvert_exporter": "python",
   "pygments_lexer": "ipython3",
   "version": "3.9.12"
  }
 },
 "nbformat": 4,
 "nbformat_minor": 5
}
