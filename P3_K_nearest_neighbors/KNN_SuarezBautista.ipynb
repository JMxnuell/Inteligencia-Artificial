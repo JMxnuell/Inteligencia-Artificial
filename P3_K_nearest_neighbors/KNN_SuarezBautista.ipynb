{
 "cells": [
  {
   "cell_type": "markdown",
   "id": "e18d0b7b",
   "metadata": {},
   "source": [
    "<center>\n",
    "    <h1>Instituto Politécnico Nacional</h1>\n",
    "    <h2>Escuela Superior de Cómputo</h2>\n",
    "</center>\n",
    "\n",
    "<br> \n",
    "<br>\n",
    "\n",
    "Asignatura: ***Inteligencia Artificial***<br>\n",
    "\n",
    "Alumno: ***Suárez Bautista José Manuel***<br>\n",
    "\n",
    "Boleta: ***2019640115***<br>\n",
    "\n",
    "Grupo: ***6CM1***<br>\n",
    "\n",
    "---\n",
    "<center>\n",
    "    <h3>Práctica 3</h3>\n",
    "    <h4>KNN</h4>\n",
    "    <p>11 de noviembre de 2022</p>\n",
    "</center>\n"
   ]
  },
  {
   "cell_type": "markdown",
   "id": "cb3d9a7d",
   "metadata": {},
   "source": [
    "1. Generar tupla (x, y):"
   ]
  },
  {
   "cell_type": "code",
   "execution_count": 42,
   "id": "41d27b32",
   "metadata": {},
   "outputs": [],
   "source": [
    "from random import uniform\n",
    "from random import randrange\n",
    "def sample():\n",
    "    \"\"\"retorna una tupla de valores al azar para las dos \n",
    "       carácteristicas de la muestra\"\"\"\n",
    "    x = uniform(0, 20)\n",
    "    y = uniform(0, 20)\n",
    "    return(x, y)"
   ]
  },
  {
   "cell_type": "markdown",
   "id": "2b136e67",
   "metadata": {},
   "source": [
    "2. Generar conjunto de muestras:"
   ]
  },
  {
   "cell_type": "code",
   "execution_count": 47,
   "id": "0643a857",
   "metadata": {},
   "outputs": [
    {
     "data": {
      "text/html": [
       "<div>\n",
       "<style scoped>\n",
       "    .dataframe tbody tr th:only-of-type {\n",
       "        vertical-align: middle;\n",
       "    }\n",
       "\n",
       "    .dataframe tbody tr th {\n",
       "        vertical-align: top;\n",
       "    }\n",
       "\n",
       "    .dataframe thead th {\n",
       "        text-align: right;\n",
       "    }\n",
       "</style>\n",
       "<table border=\"1\" class=\"dataframe\">\n",
       "  <thead>\n",
       "    <tr style=\"text-align: right;\">\n",
       "      <th></th>\n",
       "      <th>x</th>\n",
       "      <th>y</th>\n",
       "      <th>clase</th>\n",
       "    </tr>\n",
       "  </thead>\n",
       "  <tbody>\n",
       "    <tr>\n",
       "      <th>0</th>\n",
       "      <td>19.194988</td>\n",
       "      <td>7.102841</td>\n",
       "      <td>0.0</td>\n",
       "    </tr>\n",
       "    <tr>\n",
       "      <th>1</th>\n",
       "      <td>19.354640</td>\n",
       "      <td>12.889067</td>\n",
       "      <td>0.0</td>\n",
       "    </tr>\n",
       "    <tr>\n",
       "      <th>2</th>\n",
       "      <td>1.711596</td>\n",
       "      <td>17.365123</td>\n",
       "      <td>0.0</td>\n",
       "    </tr>\n",
       "    <tr>\n",
       "      <th>3</th>\n",
       "      <td>14.706501</td>\n",
       "      <td>0.401391</td>\n",
       "      <td>0.0</td>\n",
       "    </tr>\n",
       "    <tr>\n",
       "      <th>4</th>\n",
       "      <td>3.188898</td>\n",
       "      <td>11.263579</td>\n",
       "      <td>0.0</td>\n",
       "    </tr>\n",
       "  </tbody>\n",
       "</table>\n",
       "</div>"
      ],
      "text/plain": [
       "           x          y  clase\n",
       "0  19.194988   7.102841    0.0\n",
       "1  19.354640  12.889067    0.0\n",
       "2   1.711596  17.365123    0.0\n",
       "3  14.706501   0.401391    0.0\n",
       "4   3.188898  11.263579    0.0"
      ]
     },
     "execution_count": 47,
     "metadata": {},
     "output_type": "execute_result"
    }
   ],
   "source": [
    "import pandas as pd\n",
    "df_samples = pd.DataFrame(columns=['x', 'y', 'clase'])\n",
    "def update_df(clase, N):\n",
    "    \"\"\"añade 'N' nuevas muestras de clase 'clase' al dataframe\"\"\"\n",
    "    for i in range(N):\n",
    "        x, y = sample()\n",
    "        df_samples.loc[len(df_samples)] = [x, y, clase]\n",
    "        \n",
    "update_df(0, 30)\n",
    "update_df(1, 30)\n",
    "df_samples.head()"
   ]
  },
  {
   "cell_type": "markdown",
   "id": "99e718ca",
   "metadata": {},
   "source": [
    "3. Graficando las muestras clasificadas más la nueva:"
   ]
  },
  {
   "cell_type": "code",
   "execution_count": 61,
   "id": "18594f6a",
   "metadata": {},
   "outputs": [
    {
     "data": {
      "image/png": "[encoded data removed]",
      "text/plain": [
       "<Figure size 432x288 with 1 Axes>"
      ]
     },
     "metadata": {
      "needs_background": "light"
     },
     "output_type": "display_data"
    }
   ],
   "source": [
    "import matplotlib.pyplot as plt\n",
    "plt.scatter(x = df_samples[df_samples['clase'] == 0]['x'], y = df_samples[df_samples['clase'] == 0]['y'], c = 'blue', alpha=0.7, label='clase 0')\n",
    "plt.scatter(x = df_samples[df_samples['clase'] == 1]['x'], y = df_samples[df_samples['clase'] == 1]['y'], c = 'red', alpha=0.7, label='clase 1')\n",
    "\n",
    "\n",
    "plt.xlabel(\"Característica 1\")\n",
    "plt.ylabel(\"Característica 2\")\n",
    "\n",
    "\n",
    "new = (9, 7.5)\n",
    "plt.scatter(new[0], new[1], c = 'black', label = 'nueva muestra')\n",
    "\n",
    "plt.legend()\n",
    "plt.show()"
   ]
  },
  {
   "cell_type": "markdown",
   "id": "eb3e6998",
   "metadata": {},
   "source": [
    "4. Calculando la distancia euclidiana del punto nuevo a cada muestra clasificada"
   ]
  },
  {
   "cell_type": "code",
   "execution_count": 72,
   "id": "6d05a4c9",
   "metadata": {},
   "outputs": [],
   "source": [
    "from math import sqrt\n",
    "def distance(s):\n",
    "    \"\"\"función que retorna la distancia euclidiana entre dos puntos\n",
    "       pasamos un pandas series para mayor facilidad\"\"\"\n",
    "    return sqrt((new[0]-s['x'])**2 + (new[1]-s['y'])**2)"
   ]
  },
  {
   "cell_type": "code",
   "execution_count": 73,
   "id": "968229ca",
   "metadata": {},
   "outputs": [],
   "source": [
    "df_with_distances = df_samples\n",
    "df_with_distances['distancia euclidiana'] = df_with_distances.apply(distance, axis = 1)"
   ]
  },
  {
   "cell_type": "code",
   "execution_count": 74,
   "id": "aa1140b6",
   "metadata": {},
   "outputs": [
    {
     "data": {
      "text/html": [
       "<div>\n",
       "<style scoped>\n",
       "    .dataframe tbody tr th:only-of-type {\n",
       "        vertical-align: middle;\n",
       "    }\n",
       "\n",
       "    .dataframe tbody tr th {\n",
       "        vertical-align: top;\n",
       "    }\n",
       "\n",
       "    .dataframe thead th {\n",
       "        text-align: right;\n",
       "    }\n",
       "</style>\n",
       "<table border=\"1\" class=\"dataframe\">\n",
       "  <thead>\n",
       "    <tr style=\"text-align: right;\">\n",
       "      <th></th>\n",
       "      <th>x</th>\n",
       "      <th>y</th>\n",
       "      <th>clase</th>\n",
       "      <th>distancia euclidiana</th>\n",
       "    </tr>\n",
       "  </thead>\n",
       "  <tbody>\n",
       "    <tr>\n",
       "      <th>0</th>\n",
       "      <td>19.194988</td>\n",
       "      <td>7.102841</td>\n",
       "      <td>0.0</td>\n",
       "      <td>10.202721</td>\n",
       "    </tr>\n",
       "    <tr>\n",
       "      <th>1</th>\n",
       "      <td>19.354640</td>\n",
       "      <td>12.889067</td>\n",
       "      <td>0.0</td>\n",
       "      <td>11.673072</td>\n",
       "    </tr>\n",
       "    <tr>\n",
       "      <th>2</th>\n",
       "      <td>1.711596</td>\n",
       "      <td>17.365123</td>\n",
       "      <td>0.0</td>\n",
       "      <td>12.265459</td>\n",
       "    </tr>\n",
       "    <tr>\n",
       "      <th>3</th>\n",
       "      <td>14.706501</td>\n",
       "      <td>0.401391</td>\n",
       "      <td>0.0</td>\n",
       "      <td>9.107931</td>\n",
       "    </tr>\n",
       "    <tr>\n",
       "      <th>4</th>\n",
       "      <td>3.188898</td>\n",
       "      <td>11.263579</td>\n",
       "      <td>0.0</td>\n",
       "      <td>6.923398</td>\n",
       "    </tr>\n",
       "  </tbody>\n",
       "</table>\n",
       "</div>"
      ],
      "text/plain": [
       "           x          y  clase  distancia euclidiana\n",
       "0  19.194988   7.102841    0.0             10.202721\n",
       "1  19.354640  12.889067    0.0             11.673072\n",
       "2   1.711596  17.365123    0.0             12.265459\n",
       "3  14.706501   0.401391    0.0              9.107931\n",
       "4   3.188898  11.263579    0.0              6.923398"
      ]
     },
     "execution_count": 74,
     "metadata": {},
     "output_type": "execute_result"
    }
   ],
   "source": [
    "df_with_distances.head()"
   ]
  },
  {
   "cell_type": "code",
   "execution_count": 80,
   "id": "0d48f4e2",
   "metadata": {},
   "outputs": [
    {
     "name": "stdout",
     "output_type": "stream",
     "text": [
      "Muestra nueva en (9, 7.5)\n"
     ]
    },
    {
     "data": {
      "text/html": [
       "<div>\n",
       "<style scoped>\n",
       "    .dataframe tbody tr th:only-of-type {\n",
       "        vertical-align: middle;\n",
       "    }\n",
       "\n",
       "    .dataframe tbody tr th {\n",
       "        vertical-align: top;\n",
       "    }\n",
       "\n",
       "    .dataframe thead th {\n",
       "        text-align: right;\n",
       "    }\n",
       "</style>\n",
       "<table border=\"1\" class=\"dataframe\">\n",
       "  <thead>\n",
       "    <tr style=\"text-align: right;\">\n",
       "      <th></th>\n",
       "      <th>x</th>\n",
       "      <th>y</th>\n",
       "      <th>clase</th>\n",
       "      <th>distancia euclidiana</th>\n",
       "    </tr>\n",
       "  </thead>\n",
       "  <tbody>\n",
       "    <tr>\n",
       "      <th>29</th>\n",
       "      <td>7.665640</td>\n",
       "      <td>4.701495</td>\n",
       "      <td>0.0</td>\n",
       "      <td>3.100347</td>\n",
       "    </tr>\n",
       "    <tr>\n",
       "      <th>20</th>\n",
       "      <td>11.875289</td>\n",
       "      <td>9.049942</td>\n",
       "      <td>0.0</td>\n",
       "      <td>3.266437</td>\n",
       "    </tr>\n",
       "    <tr>\n",
       "      <th>7</th>\n",
       "      <td>6.060204</td>\n",
       "      <td>9.236249</td>\n",
       "      <td>0.0</td>\n",
       "      <td>3.414229</td>\n",
       "    </tr>\n",
       "    <tr>\n",
       "      <th>57</th>\n",
       "      <td>12.435456</td>\n",
       "      <td>7.320711</td>\n",
       "      <td>1.0</td>\n",
       "      <td>3.440131</td>\n",
       "    </tr>\n",
       "    <tr>\n",
       "      <th>47</th>\n",
       "      <td>5.430981</td>\n",
       "      <td>7.267367</td>\n",
       "      <td>1.0</td>\n",
       "      <td>3.576593</td>\n",
       "    </tr>\n",
       "    <tr>\n",
       "      <th>59</th>\n",
       "      <td>10.976424</td>\n",
       "      <td>4.390370</td>\n",
       "      <td>1.0</td>\n",
       "      <td>3.684569</td>\n",
       "    </tr>\n",
       "    <tr>\n",
       "      <th>31</th>\n",
       "      <td>11.728541</td>\n",
       "      <td>4.921508</td>\n",
       "      <td>1.0</td>\n",
       "      <td>3.754139</td>\n",
       "    </tr>\n",
       "    <tr>\n",
       "      <th>24</th>\n",
       "      <td>5.122658</td>\n",
       "      <td>7.677081</td>\n",
       "      <td>0.0</td>\n",
       "      <td>3.881383</td>\n",
       "    </tr>\n",
       "    <tr>\n",
       "      <th>28</th>\n",
       "      <td>7.772858</td>\n",
       "      <td>11.377830</td>\n",
       "      <td>0.0</td>\n",
       "      <td>4.067363</td>\n",
       "    </tr>\n",
       "    <tr>\n",
       "      <th>23</th>\n",
       "      <td>6.530682</td>\n",
       "      <td>11.445684</td>\n",
       "      <td>0.0</td>\n",
       "      <td>4.654670</td>\n",
       "    </tr>\n",
       "  </tbody>\n",
       "</table>\n",
       "</div>"
      ],
      "text/plain": [
       "            x          y  clase  distancia euclidiana\n",
       "29   7.665640   4.701495    0.0              3.100347\n",
       "20  11.875289   9.049942    0.0              3.266437\n",
       "7    6.060204   9.236249    0.0              3.414229\n",
       "57  12.435456   7.320711    1.0              3.440131\n",
       "47   5.430981   7.267367    1.0              3.576593\n",
       "59  10.976424   4.390370    1.0              3.684569\n",
       "31  11.728541   4.921508    1.0              3.754139\n",
       "24   5.122658   7.677081    0.0              3.881383\n",
       "28   7.772858  11.377830    0.0              4.067363\n",
       "23   6.530682  11.445684    0.0              4.654670"
      ]
     },
     "execution_count": 80,
     "metadata": {},
     "output_type": "execute_result"
    }
   ],
   "source": [
    "# ordenamos de menor a mayor distancia\n",
    "df_with_distances = df_with_distances.sort_values('distancia euclidiana')\n",
    "print(f'Muestra nueva en ({new[0]}, {new[1]})')\n",
    "df_with_distances.head(10)"
   ]
  },
  {
   "cell_type": "markdown",
   "id": "14d9f8c8",
   "metadata": {},
   "source": [
    "5. K nearest neighbors:"
   ]
  },
  {
   "cell_type": "code",
   "execution_count": 82,
   "id": "8777d13f",
   "metadata": {},
   "outputs": [
    {
     "name": "stdout",
     "output_type": "stream",
     "text": [
      "Vecinos clase 0: 3\n",
      "Vecinos clase 1: 2\n",
      "La nueva muestra pertenece a la clase 0\n"
     ]
    }
   ],
   "source": [
    "K = 5\n",
    "c0 = 0\n",
    "c1 = 0\n",
    "for lab, row in df_with_distances.iterrows():\n",
    "    K -= 1\n",
    "    if(row['clase'] == 0):\n",
    "        c0 += 1\n",
    "    else:\n",
    "        c1 += 1\n",
    "    if K == 0:\n",
    "        break;\n",
    "print(f'Vecinos clase 0: {c0}')\n",
    "print(f'Vecinos clase 1: {c1}')\n",
    "if c0 > c1:\n",
    "    print(\"La nueva muestra pertenece a la clase 0\")\n",
    "else:\n",
    "    print(\"La nueva muestra pertenece a la clase 1\")"
   ]
  },
  {
   "cell_type": "code",
   "execution_count": null,
   "id": "b2760e2e",
   "metadata": {},
   "outputs": [],
   "source": []
  }
 ],
 "metadata": {
  "kernelspec": {
   "display_name": "Python 3 (ipykernel)",
   "language": "python",
   "name": "python3"
  },
  "language_info": {
   "codemirror_mode": {
    "name": "ipython",
    "version": 3
   },
   "file_extension": ".py",
   "mimetype": "text/x-python",
   "name": "python",
   "nbconvert_exporter": "python",
   "pygments_lexer": "ipython3",
   "version": "3.9.12"
  }
 },
 "nbformat": 4,
 "nbformat_minor": 5
}
