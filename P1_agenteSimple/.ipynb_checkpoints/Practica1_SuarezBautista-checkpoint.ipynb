{
 "cells": [
  {
   "cell_type": "markdown",
   "id": "c7655d51",
   "metadata": {},
   "source": [
    "<center>\n",
    "    <h1>Instituto Politécnico Nacional</h1>\n",
    "    <h2>Escuela Superior de Cómputo</h2>\n",
    "</center>\n",
    "\n",
    "<br> \n",
    "<br>\n",
    "\n",
    "Asignatura: ***Inteligencia Artificial***<br>\n",
    "\n",
    "Alumno: ***Suárez Bautista José Manuel***<br>\n",
    "\n",
    "Boleta: ***2019640115***<br>\n",
    "\n",
    "Grupo: ***6CM1***<br>\n",
    "\n",
    "---\n",
    "<center>\n",
    "    <h3>Práctica 1</h3>\n",
    "    <h4>Agente reactivo simple basado en objetivos</h4>\n",
    "    <p>15 de octubre de 2022</p>\n",
    "</center>\n"
   ]
  },
  {
   "cell_type": "markdown",
   "id": "26f7479c",
   "metadata": {},
   "source": [
    "### Introducción\n",
    "> Un ***agente inteligente*** es un sistema perceptivo capaz de interpretar y procesar la información que recibe de su entorno, actuando en consecuencia de acuerdo a los datos que recoge y procesa. La forma de actuar de esta entidad es lógica y racional basándose en las reacciones del comportamiento normal de un sistema en concreto. \n",
    ">\n",
    ">> ***Agente de reactivo simple***. Cuando una percepción en concreto coincide con una regla programada, el agente responde según la forma en que fue predispuesto. Este accionar se conoce como *condición-acción*.\n",
    "\n",
    " * ***Basados en objetivos***\n",
    "> Este tipo de agentes es llamado de esta manera yaque debe saber el estado actual del mundo y este noes siempre suficiente para decir que hacer, además elagente necesita información precisa sobre su meta uobjetivo en específico.\n",
    ">\n",
    " > ![basado](basado.png)"
   ]
  },
  {
   "cell_type": "markdown",
   "id": "217b479d",
   "metadata": {},
   "source": [
    "---\n",
    "* ***Descripción del agente***\n",
    "     * La aspiradora puede ubicarse en 10 posiciones diferentes\n",
    "     * La aspiradora se mueve a la izquierda o derecha de forma aleatoria\n",
    "     * La aspiradora debe encontrar una posición en específico que debe limpiar\n",
    "     \n",
    "   \n",
    "     | 1 | 2 | 3 | 4 | 5 | 6 | 7 | 8 | 9 | 10 |\n",
    "         \n",
    " \n",
    " ![diagrama](diagrama.png)\n"
   ]
  },
  {
   "cell_type": "code",
   "execution_count": 1,
   "id": "b2dd9dfc",
   "metadata": {},
   "outputs": [],
   "source": [
    "import numpy as np\n",
    "\n",
    "def aspiradora(obj,pos=2,l=1,r=10):\n",
    "    \"\"\"función que describe la búsqueda del agente simple\n",
    "    donde se recibe al objetivo, posición inicial y límite \n",
    "    inferior y superior del espacio de búsqueda\"\"\"\n",
    "    n_mov = 0\n",
    "    while(pos != obj): # mientras no esté en la posición objetivo\n",
    "        pos += 1 if (np.random.randint(0,2)==1) else -1 # sumo 1 si derecha, -1 si izquierda\n",
    "        if(pos<l): # si estoy en el límite inferior\n",
    "            pos = l\n",
    "        elif(pos>r): # si estoy en el límite superior\n",
    "            pos = r\n",
    "        else: # si sí me pude mover, aumento los movimientos\n",
    "            n_mov += 1\n",
    "    return n_mov\n"
   ]
  },
  {
   "cell_type": "markdown",
   "id": "406e404e",
   "metadata": {},
   "source": [
    "* ***Encontrar***\n",
    "\n"
   ]
  },
  {
   "cell_type": "markdown",
   "id": "4a1705e2",
   "metadata": {},
   "source": [
    "1. Si empieza en la posición 2 (estado inicial) y debe aspirar en la posición 5(objetivo), en promedio ¿Cuántos movimientos (acciones) tiene que hacer el agente para llegar a la posición deseada?"
   ]
  },
  {
   "cell_type": "code",
   "execution_count": 2,
   "id": "3e258c2c",
   "metadata": {},
   "outputs": [
    {
     "name": "stdout",
     "output_type": "stream",
     "text": [
      "Promedio de movimientos realizados: 14.618381618381619\n",
      "Distancia: 3\n"
     ]
    }
   ],
   "source": [
    "prom1 = np.fromiter((aspiradora(5) for i in range(1001)), dtype=int).mean()\n",
    "print(f\"Promedio de movimientos realizados: {prom1}\\nDistancia: {3}\")"
   ]
  },
  {
   "cell_type": "markdown",
   "id": "4d0f43f8",
   "metadata": {},
   "source": [
    "2. Si empieza en la posición 2 (estado inicial) y debe aspirar en la posición 7(objetivo), en promedio ¿Cuántos movimientos (acciones) tiene que hacer el agente para llegar a la posición deseada?"
   ]
  },
  {
   "cell_type": "code",
   "execution_count": 3,
   "id": "c68b58ed",
   "metadata": {},
   "outputs": [
    {
     "name": "stdout",
     "output_type": "stream",
     "text": [
      "Promedio de movimientos realizados: 36.032967032967036\n",
      "Distancia: 5\n"
     ]
    }
   ],
   "source": [
    "prom2 = np.fromiter((aspiradora(7) for i in range(1001)), dtype=int).mean()\n",
    "print(f\"Promedio de movimientos realizados: {prom2}\\nDistancia: {5}\")"
   ]
  },
  {
   "cell_type": "markdown",
   "id": "3a468fb2",
   "metadata": {},
   "source": [
    "3. Si empieza en la posición 2 (estado inicial) y debe aspirar en la posición 9(objetivo), en promedio ¿Cuántos movimientos (acciones) tiene que hacer el agente para llegar a la posición deseada?"
   ]
  },
  {
   "cell_type": "code",
   "execution_count": 4,
   "id": "d0f80923",
   "metadata": {},
   "outputs": [
    {
     "name": "stdout",
     "output_type": "stream",
     "text": [
      "Promedio de movimientos realizados: 60.02897102897103\n",
      "Distancia: 7\n"
     ]
    }
   ],
   "source": [
    "prom3 = np.fromiter((aspiradora(9) for i in range(1001)), dtype=int).mean()\n",
    "print(f\"Promedio de movimientos realizados: {prom3}\\nDistancia: {7}\")"
   ]
  },
  {
   "cell_type": "markdown",
   "id": "4bef2f1e",
   "metadata": {},
   "source": [
    "* ***Graficar distancia vs promedio de movimientos realizados***"
   ]
  },
  {
   "cell_type": "code",
   "execution_count": 5,
   "id": "583f4d67",
   "metadata": {},
   "outputs": [
    {
     "data": {
      "text/html": [
       "<div>\n",
       "<style scoped>\n",
       "    .dataframe tbody tr th:only-of-type {\n",
       "        vertical-align: middle;\n",
       "    }\n",
       "\n",
       "    .dataframe tbody tr th {\n",
       "        vertical-align: top;\n",
       "    }\n",
       "\n",
       "    .dataframe thead th {\n",
       "        text-align: right;\n",
       "    }\n",
       "</style>\n",
       "<table border=\"1\" class=\"dataframe\">\n",
       "  <thead>\n",
       "    <tr style=\"text-align: right;\">\n",
       "      <th></th>\n",
       "      <th>distancia</th>\n",
       "      <th>movs_promedio</th>\n",
       "    </tr>\n",
       "  </thead>\n",
       "  <tbody>\n",
       "    <tr>\n",
       "      <th>(2-5)</th>\n",
       "      <td>3</td>\n",
       "      <td>14.618382</td>\n",
       "    </tr>\n",
       "    <tr>\n",
       "      <th>(2-7)</th>\n",
       "      <td>5</td>\n",
       "      <td>36.032967</td>\n",
       "    </tr>\n",
       "    <tr>\n",
       "      <th>(2-9)</th>\n",
       "      <td>7</td>\n",
       "      <td>60.028971</td>\n",
       "    </tr>\n",
       "  </tbody>\n",
       "</table>\n",
       "</div>"
      ],
      "text/plain": [
       "       distancia  movs_promedio\n",
       "(2-5)          3      14.618382\n",
       "(2-7)          5      36.032967\n",
       "(2-9)          7      60.028971"
      ]
     },
     "execution_count": 5,
     "metadata": {},
     "output_type": "execute_result"
    }
   ],
   "source": [
    "import pandas as pd\n",
    "datos = {'distancia':[3, 5, 7], 'movs_promedio':[prom1, prom2, prom3]}\n",
    "df = pd.DataFrame(data=datos, index = ['(2-5)', '(2-7)', '(2-9)'])\n",
    "df"
   ]
  },
  {
   "cell_type": "code",
   "execution_count": 6,
   "id": "b850f220",
   "metadata": {},
   "outputs": [],
   "source": [
    "m = (df.loc['(2-9)']['movs_promedio'] - df.loc['(2-5)']['movs_promedio'])/(df.loc['(2-9)']['distancia'] - df.loc['(2-5)']['distancia'])\n",
    "def recta(x1, p1, m):\n",
    "    \"\"\"función de la recta real\"\"\"\n",
    "    return m*x1 - m*p1[0] + p1[1] \n",
    "X = []\n",
    "Y = []\n",
    "for x in range(3,8):\n",
    "    y = recta(x, (3,15.2997),m)\n",
    "    Y.append(y)\n",
    "    X.append(x)"
   ]
  },
  {
   "cell_type": "code",
   "execution_count": 7,
   "id": "f5d191e6",
   "metadata": {},
   "outputs": [
    {
     "data": {
      "image/png": "[encoded data removed]",
      "text/plain": [
       "<Figure size 504x216 with 1 Axes>"
      ]
     },
     "metadata": {},
     "output_type": "display_data"
    }
   ],
   "source": [
    "import matplotlib.pyplot as plt\n",
    "fig, ax = plt.subplots(figsize=(7,3), constrained_layout=True)\n",
    "ax.plot(df.distancia, df['movs_promedio'], 'o-', color='y', label='dist-prom')\n",
    "ax.plot(X, Y, color='r', label='recta p1 a p3')\n",
    "ax.set_xlabel('distancia')\n",
    "ax.set_ylabel('movimientos promedios')\n",
    "ax.set_title('Distancia vs movimientos promedios')\n",
    "ax.grid(True)\n",
    "ax.legend()\n",
    "fig.set_facecolor('green')"
   ]
  },
  {
   "cell_type": "markdown",
   "id": "c3658a3b",
   "metadata": {},
   "source": [
    "***¿La relación distancia vs promedio de movimientos es lineal?***\n",
    "<br>\n",
    "Como podemos observar en la gráfica la relación tiende a la linealidad aunque estrictamente no lo es. Además se observa que la recta roja es la realmente lineal (de punto 1 a 3), mientras que la recta verde que es la de los 3 puntos de las búsquedas tiende a parecer lineal. \n"
   ]
  },
  {
   "cell_type": "markdown",
   "id": "5f35a12c",
   "metadata": {},
   "source": [
    "---\n",
    "### Conclusiones"
   ]
  }
 ],
 "metadata": {
  "kernelspec": {
   "display_name": "Python 3 (ipykernel)",
   "language": "python",
   "name": "python3"
  },
  "language_info": {
   "codemirror_mode": {
    "name": "ipython",
    "version": 3
   },
   "file_extension": ".py",
   "mimetype": "text/x-python",
   "name": "python",
   "nbconvert_exporter": "python",
   "pygments_lexer": "ipython3",
   "version": "3.9.12"
  }
 },
 "nbformat": 4,
 "nbformat_minor": 5
}
